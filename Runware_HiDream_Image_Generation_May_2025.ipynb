{
  "nbformat": 4,
  "nbformat_minor": 0,
  "metadata": {
    "colab": {
      "provenance": []
    },
    "kernelspec": {
      "name": "python3",
      "display_name": "Python 3"
    },
    "language_info": {
      "name": "python"
    }
  },
  "cells": [
    {
      "cell_type": "markdown",
      "source": [
        "# HiDream model via Runware API"
      ],
      "metadata": {
        "id": "0RAO8Z1EgvwU"
      }
    },
    {
      "cell_type": "code",
      "source": [
        "import requests\n",
        "import json\n",
        "from PIL import Image\n",
        "from io import BytesIO\n",
        "import matplotlib.pyplot as plt\n",
        "from google.colab import userdata"
      ],
      "metadata": {
        "id": "blwlW4Bmym_H"
      },
      "execution_count": null,
      "outputs": []
    },
    {
      "cell_type": "markdown",
      "source": [
        "##Function for Runware API calling"
      ],
      "metadata": {
        "id": "kV9WfV4aW0yu"
      }
    },
    {
      "cell_type": "code",
      "source": [
        "def generate_image_with_runware(prompt,\n",
        "                                model_id,\n",
        "                                width=768, height=1024,\n",
        "                                number_results=1):\n",
        "\n",
        "    url = \"https://api.runware.ai/v1\"\n",
        "\n",
        "    # Create the payload\n",
        "    payload = [\n",
        "        {\n",
        "            \"taskType\": \"authentication\",\n",
        "            \"apiKey\": userdata.get('runware_key') # your Runware API secret key\n",
        "        },\n",
        "        {\n",
        "            \"taskType\": \"imageInference\",\n",
        "            \"taskUUID\": \"39d7207a-87ef-4c93-8082-1431f9c1dc97\",\n",
        "            \"positivePrompt\": prompt,\n",
        "            \"width\": width,\n",
        "            \"height\": height,\n",
        "            \"steps\":40,\n",
        "            \"model\": model_id,\n",
        "            \"numberResults\": number_results,\n",
        "            \"includeCost\": True\n",
        "        }\n",
        "    ]\n",
        "\n",
        "    # Set headers\n",
        "    headers = {\n",
        "        \"Content-Type\": \"application/json\"\n",
        "    }\n",
        "\n",
        "    # Make the POST request\n",
        "    response = requests.post(url, headers=headers, data=json.dumps(payload))\n",
        "\n",
        "    # Check if the request was successful\n",
        "    if response.status_code == 200:\n",
        "        return response.json()\n",
        "    else:\n",
        "        print(f\"Error: {response.status_code}\")\n",
        "        print(response.text)\n",
        "        return None"
      ],
      "metadata": {
        "id": "TxHZ4exgyndS"
      },
      "execution_count": null,
      "outputs": []
    },
    {
      "cell_type": "markdown",
      "source": [
        "## Specify text prompts"
      ],
      "metadata": {
        "id": "fZvjVuWnWgDM"
      }
    },
    {
      "cell_type": "code",
      "source": [
        "# prompts for image generation\n",
        "prompt_1 = \"\"\"\n",
        "abandoned house by the lake, landscape, water, (8K Wallpaper),\n",
        "world's Most Beautiful Artwork, majestic oil painting specialty,\n",
        "complicated, high detail, clear focus, realistic painting art\n",
        "\"\"\"\n",
        "\n",
        "prompt_2 = \"\"\"\n",
        "A city scene, mix of diverse people, facial expressions and\n",
        "gestures, expressing moments frozen in time, 4k, ultra detailed,\n",
        "realistic photograph, studio lighting, vivid colors, Bokeh Suave\n",
        "\"\"\"\n",
        "\n",
        "prompt_3 = \"\"\"\n",
        "two office colleagues, bearded men, nicely dressed, cheerful, realistic\n",
        "\"\"\""
      ],
      "metadata": {
        "id": "dDwk0SnEWjkc"
      },
      "execution_count": null,
      "outputs": []
    },
    {
      "cell_type": "markdown",
      "source": [
        "## Generate images with Runware API"
      ],
      "metadata": {
        "id": "PCCwD14CWm20"
      }
    },
    {
      "cell_type": "code",
      "source": [
        "# model ID of HiDream Full model\n",
        "HiDream_id = \"runware:97@2\"\n",
        "\n",
        "# generate images using Runware API\n",
        "result_1 = generate_image_with_runware(prompt = prompt_1,\n",
        "                                       model_id = HiDream_id)\n",
        "\n",
        "result_2 = generate_image_with_runware(prompt = prompt_2,\n",
        "                                       model_id = HiDream_id)\n",
        "\n",
        "result_3 = generate_image_with_runware(prompt = prompt_3,\n",
        "                                       model_id = HiDream_id)"
      ],
      "metadata": {
        "id": "3gwLJQ9lzFEQ"
      },
      "execution_count": null,
      "outputs": []
    },
    {
      "cell_type": "code",
      "source": [
        "result_1[\"data\"][0][\"imageURL\"]"
      ],
      "metadata": {
        "id": "9i7ZUIGF4TQU"
      },
      "execution_count": null,
      "outputs": []
    },
    {
      "cell_type": "markdown",
      "source": [
        "## Load generated images"
      ],
      "metadata": {
        "id": "fresMqlsVl1d"
      }
    },
    {
      "cell_type": "code",
      "source": [
        "# load generated images\n",
        "image_content_1 = requests.get(result_1[\"data\"][0][\"imageURL\"])\n",
        "image_content_2 = requests.get(result_2[\"data\"][0][\"imageURL\"])\n",
        "image_content_3 = requests.get(result_3[\"data\"][0][\"imageURL\"])\n",
        "\n",
        "img_1 = Image.open(BytesIO(image_content_1.content))\n",
        "img_2 = Image.open(BytesIO(image_content_2.content))\n",
        "img_3 = Image.open(BytesIO(image_content_3.content))"
      ],
      "metadata": {
        "id": "XKhQMonXQiSF"
      },
      "execution_count": null,
      "outputs": []
    },
    {
      "cell_type": "markdown",
      "source": [
        "## Display images"
      ],
      "metadata": {
        "id": "6W3HrtUGVooN"
      }
    },
    {
      "cell_type": "code",
      "source": [
        "images = [img_1, img_2, img_3]\n",
        "\n",
        "fig, axes = plt.subplots(1, 3, figsize=(10, 6))  # 1 row, 3 columns\n",
        "\n",
        "# set title\n",
        "fig.suptitle('HiDream Full', fontsize=26)\n",
        "\n",
        "# Display images\n",
        "for i, ax in enumerate(axes):\n",
        "    ax.imshow(images[i])\n",
        "    ax.axis('off')  # Hide axes\n",
        "\n",
        "plt.tight_layout()\n",
        "plt.show()"
      ],
      "metadata": {
        "id": "Be8x9p81SJDx"
      },
      "execution_count": null,
      "outputs": []
    },
    {
      "cell_type": "markdown",
      "source": [
        "HiDream Dev model ID - runware:97@2"
      ],
      "metadata": {
        "id": "_WOhOGvKXQ8C"
      }
    },
    {
      "cell_type": "code",
      "source": [
        "# @title\n",
        "images = [img_1, img_2, img_3]\n",
        "\n",
        "fig, axes = plt.subplots(1, 3, figsize=(10, 6))  # 1 row, 3 columns\n",
        "\n",
        "# set title\n",
        "fig.suptitle('HiDream Dev', fontsize=26)\n",
        "\n",
        "# Display images\n",
        "for i, ax in enumerate(axes):\n",
        "    ax.imshow(images[i])\n",
        "    ax.axis('off')  # Hide axes\n",
        "\n",
        "plt.tight_layout()\n",
        "plt.show()"
      ],
      "metadata": {
        "cellView": "form",
        "id": "bX9xaOkMQIIc"
      },
      "execution_count": null,
      "outputs": []
    },
    {
      "cell_type": "markdown",
      "source": [
        "HiDream Fast model ID - runware:97@3"
      ],
      "metadata": {
        "id": "biceWuC5YTqj"
      }
    },
    {
      "cell_type": "code",
      "source": [
        "# @title\n",
        "images = [img_1, img_2, img_3]\n",
        "\n",
        "fig, axes = plt.subplots(1, 3, figsize=(10, 6))  # 1 row, 3 columns\n",
        "\n",
        "# set title\n",
        "fig.suptitle('HiDream Fast', fontsize=26)\n",
        "\n",
        "# Display images\n",
        "for i, ax in enumerate(axes):\n",
        "    ax.imshow(images[i])\n",
        "    ax.axis('off')  # Hide axes\n",
        "\n",
        "plt.tight_layout()\n",
        "plt.show()"
      ],
      "metadata": {
        "id": "a5NmGN7cXoes"
      },
      "execution_count": null,
      "outputs": []
    }
  ]
}